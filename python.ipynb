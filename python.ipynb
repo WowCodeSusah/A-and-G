{
 "cells": [
  {
   "cell_type": "code",
   "execution_count": null,
   "id": "db785fd4",
   "metadata": {},
   "outputs": [],
   "source": [
    "#nomor1\n",
    "r = eval(input(\"Radius of circle : \"))\n",
    "l = 22 / 7 * r * r\n",
    "print(\"Area of circle : \", l)"
   ]
  },
  {
   "cell_type": "code",
   "execution_count": null,
   "id": "a3cfe44a",
   "metadata": {},
   "outputs": [],
   "source": [
    "#nomor2\n",
    "first = input(\"Enter First Name : \")\n",
    "last = input(\"Enter Last Name : \")\n",
    "print(\"So You Are\" , last , first)"
   ]
  },
  {
   "cell_type": "code",
   "execution_count": null,
   "id": "f102e802",
   "metadata": {},
   "outputs": [],
   "source": [
    "#nomor3\n",
    "color_list = [\"red\", \"green\", \"white\", \"black\"]\n",
    "print(color_list[0])\n",
    "print(color_list[-1])"
   ]
  },
  {
   "cell_type": "code",
   "execution_count": null,
   "id": "68f0d3ba",
   "metadata": {},
   "outputs": [],
   "source": [
    "#nomor4\n",
    "it = input(\"Enter the value of N : \")\n",
    "\n",
    "n2 = it + it\n",
    "n3 = it + it + it\n",
    "n = int(n2) + int(n3) + int(it)\n",
    "print(\"Value would be :\", n)"
   ]
  },
  {
   "cell_type": "code",
   "execution_count": null,
   "id": "ed0e148f",
   "metadata": {},
   "outputs": [],
   "source": [
    "#nomor5\n",
    "r = 6\n",
    "volume1 = 4/3 * 3.14 * r ** 3\n",
    "print(round(volume1, 2))\n",
    "d = r * 2\n",
    "volume2 = 3.14 * d ** 3 / 6\n",
    "print(round(volume2, 2))"
   ]
  },
  {
   "cell_type": "code",
   "execution_count": null,
   "id": "31854e53",
   "metadata": {},
   "outputs": [],
   "source": [
    "#nomor6\n",
    "num = eval(input(\"Enter a Number : \"))\n",
    "if num < 17:\n",
    "    print(\"Below 17\")\n",
    "elif num > 17:\n",
    "    print((num - 17) * 2)"
   ]
  },
  {
   "cell_type": "code",
   "execution_count": null,
   "id": "7964777e",
   "metadata": {},
   "outputs": [],
   "source": [
    "#nomor7\n",
    "one = eval(input(\"Enter Number 1 : \"))\n",
    "two = eval(input(\"Enter Number 2 : \"))\n",
    "three = eval(input(\"Enter Number 3 : \"))\n",
    "sum2 = one + two + three\n",
    "\n",
    "if one == two and two == three and three == one:\n",
    "    print(sum2 * 3)\n",
    "else:\n",
    "    print(sum2)"
   ]
  },
  {
   "cell_type": "code",
   "execution_count": null,
   "id": "66745111",
   "metadata": {},
   "outputs": [],
   "source": [
    "#nomor8\n",
    "num = eval(input(\"Enter a number : \"))\n",
    "if num % 2 == 1:\n",
    "    print(\"You are Odd\")\n",
    "elif num % 2 == 0:\n",
    "    print(\"You are Even\")"
   ]
  },
  {
   "cell_type": "code",
   "execution_count": null,
   "id": "67f33821",
   "metadata": {},
   "outputs": [],
   "source": [
    "#nomor9\n",
    "letter = input(\"Enter a Letter : \")\n",
    "if letter == 'a' or letter == 'i' or letter == 'u' or letter == 'e' or letter == 'o':\n",
    "    print(\"The letter is a Vowel\")\n",
    "else:\n",
    "    print(\"The letter is a consonant\")"
   ]
  },
  {
   "cell_type": "code",
   "execution_count": null,
   "id": "8c93a715",
   "metadata": {},
   "outputs": [],
   "source": [
    "#nomor10\n",
    "numlist = [1, 2, 3, 4, 5]\n",
    "ang = eval(input(\"Enter Number : \"))\n",
    "if ang in numlist:\n",
    "    print(\"You are on the list\")\n",
    "else :\n",
    "    print(\"You are not on the list\")"
   ]
  },
  {
   "cell_type": "code",
   "execution_count": null,
   "id": "c0ea2674",
   "metadata": {},
   "outputs": [],
   "source": [
    "#nomor11\n",
    "import matplotlib.pyplot as plt\n",
    "x = [1, 1, 2, 2, 2, 2, 3, 3, 3, 3 ,3 ,4 ,4 ,4, 4, 4, 4, 5, 5, 5, 5 ,5,5,5,6,6,6,6,7,7,7,7,8,8,8,8,9,9,9,10,10]\n",
    "\n",
    "plt.hist(x)\n",
    "plt.show()"
   ]
  },
  {
   "cell_type": "code",
   "execution_count": null,
   "id": "b1eaebc7",
   "metadata": {},
   "outputs": [],
   "source": [
    "#nomor12\n",
    "number = [ 386, 462, 47, 418, 907, 344, 236, 375, 823, 566, 597, 978, 328, 615, 953, 345, 399, 162, 758, 219, 918, 237, 412, 566, 826, 248, 866, 950, 626, 949, 687, 217, 815, 67, 104, 58, 512, 24, 892, 894, 767, 553, 81, 379, 843, 831, 445, 742, 717,958,743, 521]\n",
    "number2 = []\n",
    "for x in number:\n",
    "    if x%2 == 0:\n",
    "        number2.append(x)\n",
    "number2.sort()\n",
    "print(number2)"
   ]
  },
  {
   "cell_type": "code",
   "execution_count": null,
   "id": "4dafc6e0",
   "metadata": {},
   "outputs": [],
   "source": [
    "#nomor13\n",
    "base = eval(input(\"Enter Base : \"))\n",
    "height = eval(input(\"Enter Height : \"))\n",
    "area = 1/2 * base * height\n",
    "print(round(area, 2))"
   ]
  },
  {
   "cell_type": "code",
   "execution_count": null,
   "id": "90c55d9a",
   "metadata": {},
   "outputs": [],
   "source": [
    "#nomor14\n",
    "number1 = eval(input(\"Enter first number : \"))\n",
    "number2 = eval(input(\"Enter second number : \"))\n",
    "\n",
    "one = number1\n",
    "two = number2\n",
    "\n",
    "list1 = []\n",
    "list2 = []\n",
    "list1.append(one)\n",
    "list2.append(two)\n",
    "\n",
    "while number1 < 500:\n",
    "    number1 += one\n",
    "    list1.append(number1)\n",
    "    number2 += two\n",
    "    list2.append(number2)\n",
    "set1 = set(list1)\n",
    "set2 = set(list2)\n",
    "intersection = set1.intersection(set2)\n",
    "list3 = list(intersection)\n",
    "list3.sort()\n",
    "print(\"The LCM is :\",list3[0], )"
   ]
  },
  {
   "cell_type": "code",
   "execution_count": null,
   "id": "a1d6300b",
   "metadata": {},
   "outputs": [],
   "source": [
    "#nomor15\n",
    "num1 = eval(input(\"Enter Number 1 : \"))\n",
    "num2 = eval(input(\"Enter Number 2 : \"))\n",
    "num3 = eval(input(\"Enter Number 3 : \"))\n",
    "if num1 == num2 or num2 == num3 or num3 == num1:\n",
    "    print(\"Your sum will be :\", 0)\n",
    "else :\n",
    "    print(\"Your sum will be :\", num1 + num2 + num3)"
   ]
  },
  {
   "cell_type": "code",
   "execution_count": null,
   "id": "f06da2f9",
   "metadata": {},
   "outputs": [],
   "source": [
    "#nomor16\n",
    "num1 = eval(input(\"Enter Number 1 : \"))\n",
    "num2 = eval(input(\"Enter Number 2 : \"))\n",
    "\n",
    "xy = (num1 + num2) ** 2\n",
    "print(\"(\",num1,\"+\",num2,\") * (\",num1,\"+\",num2,\") =\",xy)"
   ]
  },
  {
   "cell_type": "code",
   "execution_count": null,
   "id": "e5aaeecd",
   "metadata": {},
   "outputs": [],
   "source": [
    "#nomor17\n",
    "num1 = eval(input(\"Enter amt : \"))\n",
    "num2 = eval(input(\"Enter int : \"))\n",
    "num3 = eval(input(\"Enter years : \"))\n",
    "\n",
    "A = num1 * (1 + num2 / 100) **num3\n",
    "print(\"Future value is :\",round(A,2))"
   ]
  },
  {
   "cell_type": "code",
   "execution_count": null,
   "id": "8b3ca564",
   "metadata": {},
   "outputs": [],
   "source": [
    "#nomor18\n",
    "import math\n",
    "\n",
    "num1 = eval(input(\"Enter X1 : \"))\n",
    "num2 = eval(input(\"Enter Y1 : \"))\n",
    "num3 = eval(input(\"Enter X2 : \"))\n",
    "num4 = eval(input(\"Enter Y2 : \"))\n",
    "\n",
    "diss = math.sqrt(((num3-num1)**2 + (num4-num2)**2))\n",
    "print(\"The distance will be :\",round(diss,2))"
   ]
  },
  {
   "cell_type": "code",
   "execution_count": null,
   "id": "f66f0e6d",
   "metadata": {},
   "outputs": [],
   "source": [
    "#nomor19\n",
    "num1 = eval(input(\"Enter Number : \"))\n",
    "x = 0\n",
    "listx = []\n",
    "while x < (num1):\n",
    "    x += 1\n",
    "    listx.append(x)\n",
    "\n",
    "print(\"Sum will be :\",sum(listx))"
   ]
  },
  {
   "cell_type": "code",
   "execution_count": null,
   "id": "3cc110e0",
   "metadata": {},
   "outputs": [],
   "source": [
    "#nomor20\n",
    "num1 = eval(input(\"Enter Feet : \"))\n",
    "num2 = eval(input(\"Enter Inch : \"))\n",
    "\n",
    "feet = num1 * 30.48\n",
    "inch = num2 * 2.54\n",
    "\n",
    "print(\"Feet to Cm will be :\", feet, \"cm\")\n",
    "print(\"Inch to Cm will be :\", inch, \"cm\")"
   ]
  },
  {
   "cell_type": "code",
   "execution_count": null,
   "id": "1e27f891",
   "metadata": {},
   "outputs": [],
   "source": [
    "#nomor21\n",
    "import math\n",
    "num1 = eval(input(\"Enter side 1 : \"))\n",
    "num2 = eval(input(\"Enter side 2 : \"))\n",
    "\n",
    "hypo = math.sqrt((num1**2) + (num2**2))\n",
    "print(\"Hypotenuse will be :\", hypo,)"
   ]
  },
  {
   "cell_type": "code",
   "execution_count": null,
   "id": "6f9e5bd9",
   "metadata": {},
   "outputs": [],
   "source": [
    "#nomor22\n",
    "num1 = eval(input(\"Enter Weight (kg) : \"))\n",
    "num2 = eval(input(\"Enter Height (m)  : \"))\n",
    "\n",
    "bmi = num1 / (num2 **2)\n",
    "\n",
    "print(\"Your Body Mass Index is :\", round(bmi, 2))"
   ]
  },
  {
   "cell_type": "code",
   "execution_count": null,
   "id": "47c45e08",
   "metadata": {},
   "outputs": [],
   "source": [
    "#nomor23\n",
    "num1 = eval(input(\"Enter X1 : \"))\n",
    "num2 = eval(input(\"Enter Y1 : \"))\n",
    "num3 = eval(input(\"Enter X2 : \"))\n",
    "num4 = eval(input(\"Enter Y2 : \"))\n",
    "\n",
    "mid = ((num1 + num3)/2)\n",
    "mid2 = ((num2 + num4)/2)\n",
    "print(\"Mid point of the line would be :\",mid,\",\",mid2)"
   ]
  },
  {
   "cell_type": "code",
   "execution_count": null,
   "id": "6b7dd792",
   "metadata": {},
   "outputs": [],
   "source": [
    "#nomor24\n",
    "bruh = range(2000,3201)\n",
    "listx = []\n",
    "for x in bruh:\n",
    "    listx.append(x)\n",
    "\n",
    "listi = []\n",
    "for y in listx:\n",
    "    if y%5 != 0 and y%7 == 0:\n",
    "        listi.append(y)\n",
    "\n",
    "print(*listi, sep=\", \")"
   ]
  }
 ],
 "metadata": {
  "kernelspec": {
   "display_name": "Python 3 (ipykernel)",
   "language": "python",
   "name": "python3"
  },
  "language_info": {
   "codemirror_mode": {
    "name": "ipython",
    "version": 3
   },
   "file_extension": ".py",
   "mimetype": "text/x-python",
   "name": "python",
   "nbconvert_exporter": "python",
   "pygments_lexer": "ipython3",
   "version": "3.9.12"
  }
 },
 "nbformat": 4,
 "nbformat_minor": 5
}
